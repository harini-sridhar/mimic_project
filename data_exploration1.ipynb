{
 "cells": [
  {
   "cell_type": "code",
   "execution_count": 1,
   "metadata": {
    "collapsed": true
   },
   "outputs": [],
   "source": [
    "%matplotlib inline"
   ]
  },
  {
   "cell_type": "code",
   "execution_count": 3,
   "metadata": {},
   "outputs": [],
   "source": [
    "import numpy as np\n",
    "import pandas as pd\n",
    "import pylab\n",
    "import sys, pickle, cPickle, gzip\n",
    "from sklearn.preprocessing import MinMaxScaler\n",
    "from utils import *\n",
    "import networkx as nx\n",
    "import matplotlib.pyplot as plt\n",
    "import matplotlib\n",
    "sys.path.append('./sieve_disc/')\n",
    "import corex as ce\n",
    "import vis_corex as vc"
   ]
  },
  {
   "cell_type": "code",
   "execution_count": 4,
   "metadata": {},
   "outputs": [
    {
     "name": "stdout",
     "output_type": "stream",
     "text": [
      "weight threshold is -0.000000 for graph with max of 100.000000 edges \n",
      "('non-isolated nodes,edges', 29, 89)\n",
      "('non-isolated nodes,edges', 29, 25)\n"
     ]
    },
    {
     "data": {
      "text/plain": [
       "<networkx.classes.digraph.DiGraph at 0x1108e3dd0>"
      ]
     },
     "execution_count": 4,
     "metadata": {},
     "output_type": "execute_result"
    }
   ],
   "source": [
    "fname = './dataset.csv'\n",
    "df = pd.read_csv(fname)\n",
    "disease = df.iloc[:,5:]\n",
    "vnames = list(disease.columns)\n",
    "\n",
    "layer = ce.Corex(n_hidden=4, dim_hidden=2, marginal_description='discrete', smooth_marginals=False) \n",
    "layer.fit(disease)\n",
    "vc.vis_hierarchy([layer], column_label=vnames, prefix='result/')"
   ]
  },
  {
   "cell_type": "markdown",
   "metadata": {},
   "source": [
    "### Correlation Analysis of the Set of Disease Conditions to Understand Which Conditions can Co-occur. Performed using the Information Sieve technique."
   ]
  },
  {
   "cell_type": "markdown",
   "metadata": {},
   "source": [
    "<img src=\"tree_sfdp_w_splines.png\">"
   ]
  }
 ],
 "metadata": {
  "kernelspec": {
   "display_name": "Python 2",
   "language": "python",
   "name": "python2"
  },
  "language_info": {
   "codemirror_mode": {
    "name": "ipython",
    "version": 2
   },
   "file_extension": ".py",
   "mimetype": "text/x-python",
   "name": "python",
   "nbconvert_exporter": "python",
   "pygments_lexer": "ipython2",
   "version": "2.7.14"
  }
 },
 "nbformat": 4,
 "nbformat_minor": 1
}
